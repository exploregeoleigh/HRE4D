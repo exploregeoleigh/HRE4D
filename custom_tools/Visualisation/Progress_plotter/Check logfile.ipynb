{
 "cells": [
  {
   "cell_type": "markdown",
   "metadata": {},
   "source": [
    "# E4D log file checker\n",
    "This notebook will check the E4D logfile in the current directory and produce some Tikhonov plots and Chi2 plots. Click Kernal>Restart and Run all, and scroll down to the bottom to see the current state of the inversion. Re-Run the bottom cell to re-update and plot the data. \n",
    "\n",
    "To use:\n",
    "Edit the filenames below for the files you want to process.\n",
    "Filenames is a list of strings. It should be defined by something like:\n",
    "> ['filename1', 'filename2', 'filename3']\n",
    "\n",
    "then Kernal>Restart and Run All\n",
    "\n",
    "Scroll to the bottom for the plots.\n",
    "\n",
    "Sometimes Jupyter puts multiple plots into a single scroll windw output. Not sure on the precise criteria for this. Just make sure you dont scroll past the plot you want, check for scrollbars on the outputs."
   ]
  },
  {
   "cell_type": "code",
   "execution_count": null,
   "metadata": {},
   "outputs": [],
   "source": [
    "# EDIT THESE\n",
    "filenames=['e4d.log','e4d_2.log','e4d_3.log', 'e4d_4.log']\n"
   ]
  },
  {
   "cell_type": "code",
   "execution_count": null,
   "metadata": {},
   "outputs": [],
   "source": [
    "import matplotlib.pyplot as plt\n",
    "import os, glob\n",
    "%matplotlib inline"
   ]
  },
  {
   "cell_type": "code",
   "execution_count": null,
   "metadata": {},
   "outputs": [],
   "source": [
    "\n",
    "\n",
    "files=[]\n",
    "for filename in filenames:\n",
    "    files.append(open(filename))\n",
    "\n",
    "file_texts=[]\n",
    "for file in files:\n",
    "    file_texts.append(file.readlines())"
   ]
  },
  {
   "cell_type": "code",
   "execution_count": null,
   "metadata": {},
   "outputs": [],
   "source": []
  },
  {
   "cell_type": "markdown",
   "metadata": {},
   "source": [
    "#### Function Definitions"
   ]
  },
  {
   "cell_type": "code",
   "execution_count": null,
   "metadata": {},
   "outputs": [],
   "source": [
    "def readint(textline,num2read):\n",
    "    \"\"\"\n",
    "    Read an element from a line of text of format ' a b c d' in the num2read'th position\n",
    "    returns it as an int\n",
    "    \"\"\"\n",
    "    nums=0\n",
    "    prev_char=' '\n",
    "    zone=''\n",
    "    for char in textline:\n",
    "        if prev_char==' ' and char != ' ':\n",
    "            nums+=1\n",
    "        prev_char=char\n",
    "        if nums==num2read and (char!=' ' ):\n",
    "            zone=zone+char #concatenate\n",
    "    return int(zone)\n",
    "\n",
    "def readreal(textline,num2read):\n",
    "    \"\"\"\n",
    "    Read an element from a line of text of format ' a b c d' in the num2read'th position\n",
    "    returns it as a real\n",
    "    \"\"\"\n",
    "    nums=0\n",
    "    prev_char=' '\n",
    "    zone=''\n",
    "    for char in textline:\n",
    "        if prev_char==' ' and char != ' ':\n",
    "            nums+=1\n",
    "        prev_char=char\n",
    "        if nums==num2read and (char!=' '):\n",
    "            zone=zone+char #concatenate\n",
    "    return float(zone)"
   ]
  },
  {
   "cell_type": "code",
   "execution_count": null,
   "metadata": {},
   "outputs": [],
   "source": [
    "#read through the text file, extracting data values if they are needed\n",
    "def data_extract(text, printBool=False,n_constraints=1): \n",
    "    print('Length of text: ', len(text))\n",
    "    if printBool:\n",
    "        for i in range(10):\n",
    "            print(text[i], end='')\n",
    "    chi_list=[]\n",
    "    phimodxbeta_list=[]\n",
    "    phimod_list=[]\n",
    "    misfit_list=[]\n",
    "    cmplx_start=-1\n",
    "    for i, line in enumerate(text):\n",
    "        if(line[:23]==' ********** CONVERGENCE'):\n",
    "            #find phi_mod, beta, and chi\n",
    "            chi_list.append(readreal(text[i+8+(n_constraints-1)],4))\n",
    "            phimod_list.append(readreal(text[i+2],3))\n",
    "            phimodxbeta_list.append(readreal(text[i+2],2))\n",
    "            misfit_list.append(readreal(text[i+2],1))\n",
    "        if(line[:23]==' ********** FINAL SOLUT'):\n",
    "            chi_list.append(readreal(text[i+3],4))\n",
    "            phimod_list.append(readreal(text[i+2],3))\n",
    "            phimodxbeta_list.append(readreal(text[i+2],2))\n",
    "            misfit_list.append(readreal(text[i+2],1))\n",
    "        if(line[:52]==' ********** CONVERGENCE STATISTICS AT STARTING MODEL'):\n",
    "            if(cmplx_start==-1):\n",
    "                cmplx_start=-2\n",
    "            else:\n",
    "                cmplx_start=len(phimod_list)-1\n",
    "    print('Finished!')\n",
    "    return phimod_list, misfit_list, chi_list, cmplx_start"
   ]
  },
  {
   "cell_type": "code",
   "execution_count": null,
   "metadata": {},
   "outputs": [],
   "source": [
    "def tik_plot(phimod_list,misfit_list,plt_start, pltEnd=0, title='1'):\n",
    "    if(pltEnd<=0):\n",
    "        pltEnd=len(phimod_list)\n",
    "    fig, ax1=plt.subplots()\n",
    "    ax1.set_ylabel('mistfit')\n",
    "    ax1.set_xlabel('phi_mod')\n",
    "    ax1.loglog(phimod_list[plt_start:pltEnd],misfit_list[plt_start:pltEnd],'ro-')\n",
    "    ax2=ax1.twinx()\n",
    "    ax1.grid()\n",
    "    ax2.plot(phimod_list[plt_start:pltEnd],list(range(len(phimod_list[plt_start:pltEnd]))),'bo')\n",
    "    ax2.set_ylabel('Iteration')\n",
    "    labels=['tik plot (misfit)','iteration graph']\n",
    "    fig.legend(labels)\n",
    "    ax1.set_title('Tikhonov regression plot ' + title)\n",
    "    plt.show()\n",
    "    return\n",
    "\n",
    "\n",
    "def plt_chi2(chi2_list,plt_start, pltEnd=0, title='1'):\n",
    "    if(pltEnd<=0):\n",
    "        pltEnd=len(chi2_list)\n",
    "    fig, ax1=plt.subplots()\n",
    "    ax1.set_ylabel('chi2')\n",
    "    ax1.set_xlabel('iteration')\n",
    "    ax1.semilogy(list(range(len(chi2_list[plt_start:pltEnd]))),chi2_list[plt_start:pltEnd],'bo-')\n",
    "    labels=['chi2 plot']\n",
    "    fig.legend(labels)\n",
    "    ax1.set_title('Chi2 plot ' + title)\n",
    "    ax1.axhline(1, c='g', ls='--')\n",
    "    ax1.grid()\n",
    "    ax1.axhline(10, c='r', ls='--')\n",
    "    labels=['chi2 plot']\n",
    "    fig.legend(labels)\n",
    "    plt.show()\n",
    "    return"
   ]
  },
  {
   "cell_type": "code",
   "execution_count": null,
   "metadata": {},
   "outputs": [],
   "source": [
    "# Find number of constraints\n",
    "def find_constraints(text):\n",
    "    \"\"\"\n",
    "    Finds the the number of constraints in a text block\n",
    "    Input: text\n",
    "    Output: constraint (int) the number of constraints in the file\n",
    "    \"\"\"\n",
    "    for line in text:\n",
    "        if(line[:30]=='  Number of constraint blocks:'):\n",
    "            constraint= readint(line,5)\n",
    "    return constraint"
   ]
  },
  {
   "cell_type": "markdown",
   "metadata": {},
   "source": [
    "## Log File Information\n",
    "This section of the notebook uses some of the functions above to get the data from the logfile\n"
   ]
  },
  {
   "cell_type": "code",
   "execution_count": null,
   "metadata": {},
   "outputs": [],
   "source": [
    "constraints=[]\n",
    "for text in file_texts:\n",
    "    constraints.append(find_constraints(text))\n",
    "\n",
    "phimodlists =[None]*len(files)\n",
    "misfitlists =[None]*len(files)\n",
    "chilists    =[None]*len(files)\n",
    "cmplx_starts=[None]*len(files)\n",
    "\n",
    "\n",
    "\n",
    "for i, text in enumerate(file_texts):\n",
    "    phimodlists[i], misfitlists[i], chilists[i], cmplx_starts[i] = data_extract(text,n_constraints=constraints[i])\n"
   ]
  },
  {
   "cell_type": "code",
   "execution_count": null,
   "metadata": {},
   "outputs": [],
   "source": [
    "cmplx_starts[0]"
   ]
  },
  {
   "cell_type": "markdown",
   "metadata": {},
   "source": [
    "## This section actually creates the plots"
   ]
  },
  {
   "cell_type": "markdown",
   "metadata": {},
   "source": [
    "##### Real inversions:\n",
    "\n",
    "Tik Plots"
   ]
  },
  {
   "cell_type": "code",
   "execution_count": null,
   "metadata": {
    "scrolled": true
   },
   "outputs": [],
   "source": [
    "#Tik plot, match iter blue dot vertically with tik plot red dot for the iteration\n",
    "# As long as misfit doesnt increase, the inversion can be said to be progressing in a way.\n",
    "# Be careful of oscilations later on\n",
    "for i in range(len(phimodlists)):\n",
    "    tik_plot(phimodlists[i],misfitlists[i],0,cmplx_starts[i], title='- Conductivity,  '+filenames[i])"
   ]
  },
  {
   "cell_type": "markdown",
   "metadata": {},
   "source": [
    "Chi2 Plots"
   ]
  },
  {
   "cell_type": "code",
   "execution_count": null,
   "metadata": {},
   "outputs": [],
   "source": [
    "# Chi2 plots\n",
    "for i in range(len(chilists)):\n",
    "    plt_chi2(chilists[i],0,cmplx_starts[i], title='Conductivity, ' + filenames[i])"
   ]
  },
  {
   "cell_type": "markdown",
   "metadata": {},
   "source": [
    "##### Phase inversions:"
   ]
  },
  {
   "cell_type": "markdown",
   "metadata": {},
   "source": [
    "Tik:"
   ]
  },
  {
   "cell_type": "code",
   "execution_count": null,
   "metadata": {},
   "outputs": [],
   "source": [
    "\n",
    "for i in range(len(chilists)):\n",
    "    if(cmplx_starts[i]>0):\n",
    "        tik_plot(phimodlists[i],misfitlists[i],cmplx_starts[i],0, title='- Phase,  '+filenames[i])\n",
    "    else:\n",
    "        print(\"   No complex values found for file \", filenames[i], \" - continuing with next file if it exists\")\n",
    "        print(\" ------------------------------------------------------------------\")"
   ]
  },
  {
   "cell_type": "markdown",
   "metadata": {},
   "source": [
    "Chi2:"
   ]
  },
  {
   "cell_type": "code",
   "execution_count": null,
   "metadata": {},
   "outputs": [],
   "source": [
    "\n",
    "for i in range(len(chilists)):\n",
    "    if(cmplx_starts[i]>0):\n",
    "        plt_chi2(chilists[i],cmplx_starts[i],0, title='Phase, ' + filenames[i])\n",
    "    else:\n",
    "        print(\"   No complex values found for file \", filenames[i], \" - continuing with next file if it exists\")\n",
    "        print(\" ------------------------------------------------------------------\")"
   ]
  },
  {
   "cell_type": "code",
   "execution_count": null,
   "metadata": {},
   "outputs": [],
   "source": []
  }
 ],
 "metadata": {
  "kernelspec": {
   "display_name": "Python 3",
   "language": "python",
   "name": "python3"
  },
  "language_info": {
   "codemirror_mode": {
    "name": "ipython",
    "version": 3
   },
   "file_extension": ".py",
   "mimetype": "text/x-python",
   "name": "python",
   "nbconvert_exporter": "python",
   "pygments_lexer": "ipython3",
   "version": "3.8.5"
  }
 },
 "nbformat": 4,
 "nbformat_minor": 2
}
